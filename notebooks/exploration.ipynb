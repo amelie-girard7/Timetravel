{
 "cells": [
  {
   "cell_type": "code",
   "execution_count": 9,
   "metadata": {},
   "outputs": [
    {
     "name": "stdout",
     "output_type": "stream",
     "text": [
      "Transformed data saved to C:\\Users\\24419222_admin\\Documents\\GitHub\\Timetravel\\data\\transformed\\test_data.json\n",
      "Transformed data saved to C:\\Users\\24419222_admin\\Documents\\GitHub\\Timetravel\\data\\transformed\\dev_data.json\n"
     ]
    }
   ],
   "source": [
    "import json\n",
    "from pathlib import Path\n",
    "\n",
    "# Define the input and output paths as lists\n",
    "input_paths = [\n",
    "    Path(\"C:/Users/24419222_admin/Documents/GitHub/Timetravel/data/raw/test_data.json\"),\n",
    "    Path(\"C:/Users/24419222_admin/Documents/GitHub/Timetravel/data/raw/dev_data.json\")\n",
    "]\n",
    "output_paths = [\n",
    "    Path(\"C:/Users/24419222_admin/Documents/GitHub/Timetravel/data/transformed/test_data.json\"),\n",
    "    Path(\"C:/Users/24419222_admin/Documents/GitHub/Timetravel/data/transformed/dev_data.json\")\n",
    "]\n",
    "\n",
    "def transform_data(input_path, output_path):\n",
    "    transformed_stories = []\n",
    "\n",
    "    # Read the data\n",
    "    with open(input_path, 'r', encoding='utf-8') as input_file:\n",
    "        for line in input_file:\n",
    "            story = json.loads(line.strip())\n",
    "            # For each group of edited endings, create a new story entry\n",
    "            for edited_ending_group in story['edited_endings']:\n",
    "                new_story = {\n",
    "                    \"story_id\": story['story_id'],\n",
    "                    \"premise\": story['premise'],\n",
    "                    \"initial\": story['initial'],\n",
    "                    \"counterfactual\": story['counterfactual'],\n",
    "                    \"original_ending\": story['original_ending'],\n",
    "                    \"edited_endings\": [edited_ending_group]  # Make sure it's a list of lists to keep the structure\n",
    "                }\n",
    "                transformed_stories.append(new_story)\n",
    "\n",
    "    # Write the transformed data\n",
    "    with open(output_path, 'w', encoding='utf-8') as output_file:\n",
    "        for story in transformed_stories:\n",
    "            output_file.write(json.dumps(story) + '\\n')\n",
    "\n",
    "    print(f\"Transformed data saved to {output_path}\")\n",
    "\n",
    "# Iterate over the list of file paths\n",
    "for input_path, output_path in zip(input_paths, output_paths):\n",
    "    # Ensure the output directory exists\n",
    "    output_path.parent.mkdir(parents=True, exist_ok=True)\n",
    "    # Call the function to transform the data\n",
    "    transform_data(input_path, output_path)\n"
   ]
  },
  {
   "cell_type": "code",
   "execution_count": 14,
   "metadata": {},
   "outputs": [
    {
     "name": "stdout",
     "output_type": "stream",
     "text": [
      "Key replaced in C:\\Users\\24419222_admin\\Documents\\GitHub\\Timetravel\\data\\transformed\\test_data.json\n"
     ]
    }
   ],
   "source": [
    "import json\n",
    "from pathlib import Path\n",
    "\n",
    "# Define the paths to the files that need modification\n",
    "file_paths = [\n",
    "    Path(\"C:/Users/24419222_admin/Documents/GitHub/Timetravel/data/transformed/dev_data.json\")\n",
    "    Path(\"C:/Users/24419222_admin/Documents/GitHub/Timetravel/data/transformed/test_data.json\"),\n",
    "]\n",
    "\n",
    "def replace_key_in_file(file_path):\n",
    "    # Read the existing data\n",
    "    with open(file_path, 'r', encoding='utf-8') as file:\n",
    "        data = [json.loads(line) for line in file]\n",
    "\n",
    "    # Modify the key from 'edited_endings' to 'edited_ending'\n",
    "    for story in data:\n",
    "        # Check if 'edited_endings' key exists and replace it with 'edited_ending'\n",
    "        if 'edited_endings' in story:\n",
    "            story['edited_ending'] = story.pop('edited_endings')\n",
    "\n",
    "    # Write the modified data back to the file\n",
    "    with open(file_path, 'w', encoding='utf-8') as file:\n",
    "        for story in data:\n",
    "            file.write(json.dumps(story) + '\\n')\n",
    "\n",
    "    print(f\"Key replaced in {file_path}\")\n",
    "\n",
    "# Iterate over each file path and apply the key replacement\n",
    "for path in file_paths:\n",
    "    replace_key_in_file(path)\n"
   ]
  }
 ],
 "metadata": {
  "kernelspec": {
   "display_name": "venv",
   "language": "python",
   "name": "python3"
  },
  "language_info": {
   "codemirror_mode": {
    "name": "ipython",
    "version": 3
   },
   "file_extension": ".py",
   "mimetype": "text/x-python",
   "name": "python",
   "nbconvert_exporter": "python",
   "pygments_lexer": "ipython3",
   "version": "3.11.4"
  }
 },
 "nbformat": 4,
 "nbformat_minor": 2
}
